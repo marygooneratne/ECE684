{
 "metadata": {
  "language_info": {
   "codemirror_mode": {
    "name": "ipython",
    "version": 3
   },
   "file_extension": ".py",
   "mimetype": "text/x-python",
   "name": "python",
   "nbconvert_exporter": "python",
   "pygments_lexer": "ipython3",
   "version": "3.7.3-final"
  },
  "orig_nbformat": 2,
  "kernelspec": {
   "name": "python3",
   "display_name": "Python 3.7.3 64-bit",
   "metadata": {
    "interpreter": {
     "hash": "fc86e6ec211ec41f78d9ab12f256e5586109e6cb3bfef37cec3aaebfaacb1b78"
    }
   }
  }
 },
 "nbformat": 4,
 "nbformat_minor": 2,
 "cells": [
  {
   "cell_type": "code",
   "execution_count": 1,
   "metadata": {},
   "outputs": [],
   "source": [
    "import markov_lt as m\n",
    "import nltk"
   ]
  },
  {
   "cell_type": "code",
   "execution_count": 2,
   "metadata": {
    "tags": []
   },
   "outputs": [],
   "source": [
    "# DATA = \"\\\\data\\\\trump_speeches.txt\"\n",
    "SEED = ['she', 'was', 'not']\n",
    "N = 3\n",
    "\n",
    "# file_name = path + DATA\n",
    "CORPUS = [\n",
    "w.lower() for w in\n",
    "nltk.corpus.gutenberg.words('austen-sense.txt')\n",
    "]\n",
    "DETERMINISTIC = True\n",
    "\n"
   ]
  },
  {
   "cell_type": "code",
   "execution_count": 3,
   "metadata": {
    "tags": []
   },
   "outputs": [
    {
     "output_type": "stream",
     "name": "stdout",
     "text": [
      "she was not in the world , and the two miss steeles , as she had\n"
     ]
    }
   ],
   "source": [
    "print(\" \".join(m.build_sentence(SEED, N, CORPUS, DETERMINISTIC)))"
   ]
  },
  {
   "cell_type": "code",
   "execution_count": null,
   "metadata": {},
   "outputs": [],
   "source": []
  }
 ]
}