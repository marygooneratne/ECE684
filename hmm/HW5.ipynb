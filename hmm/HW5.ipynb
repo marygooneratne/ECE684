{
 "metadata": {
  "language_info": {
   "codemirror_mode": {
    "name": "ipython",
    "version": 3
   },
   "file_extension": ".py",
   "mimetype": "text/x-python",
   "name": "python",
   "nbconvert_exporter": "python",
   "pygments_lexer": "ipython3",
   "version": "3.7.3-final"
  },
  "orig_nbformat": 2,
  "kernelspec": {
   "name": "Python 3.7.3 64-bit",
   "display_name": "Python 3.7.3 64-bit",
   "metadata": {
    "interpreter": {
     "hash": "fc86e6ec211ec41f78d9ab12f256e5586109e6cb3bfef37cec3aaebfaacb1b78"
    }
   }
  }
 },
 "nbformat": 4,
 "nbformat_minor": 2,
 "cells": [
  {
   "cell_type": "code",
   "execution_count": 18,
   "metadata": {},
   "outputs": [],
   "source": [
    "import nltk\n",
    "import math\n",
    "from decimal import *\n",
    "import numpy as np"
   ]
  },
  {
   "cell_type": "code",
   "execution_count": 19,
   "metadata": {},
   "outputs": [],
   "source": [
    "tag_list = set()\n",
    "word_set = set()\n",
    "transition_dict = {}\n",
    "tag_count = {}\n",
    "corpus = nltk.corpus.brown.tagged_sents(tagset='universal')[:10000]"
   ]
  },
  {
   "cell_type": "code",
   "execution_count": 20,
   "metadata": {},
   "outputs": [],
   "source": [
    "# QUESTION 1\n",
    "def gen_matrices(corpus):\n",
    "    # Generate counts of all values\n",
    "    for sentence in corpus:\n",
    "        previous = \"start\"\n",
    "        for data in sentence:\n",
    "            word_set.add(data[0].lower())\n",
    "            tag = data[1]\n",
    "            tag_list.add(tag)\n",
    "\n",
    "            if tag in tag_count: tag_count[tag] += 1\n",
    "            else: tag_count[tag] = 1\n",
    "\n",
    "            if (previous, tag) in transition_dict: transition_dict[(previous, tag)] += 1\n",
    "            else: transition_dict[(previous, tag)] = 1\n",
    "            \n",
    "            previous = tag\n",
    "\n",
    "    word_map['start'] = 0\n",
    "    word_map['undefined'] = len(word_map)\n",
    "\n",
    "    # Generate mappings\n",
    "    idx = 1\n",
    "    for word in word_set:\n",
    "        word_map[word] = i\n",
    "        idx += 1\n",
    "\n",
    "    idx = 1\n",
    "    tag_map['start'] = 0\n",
    "    for tag in tag_list:\n",
    "        tag_map[tag] = idx\n",
    "        idx += 1\n",
    "\n",
    "    # Generate probabilities of trans\n",
    "    probabilities = {}\n",
    "    for key in transition_dict:\n",
    "        den = 0\n",
    "        val = key[0]\n",
    "        for key_2 in transition_dict:\n",
    "            if key_2[0] == val:\n",
    "                den += count_dict[key_2]\n",
    "        probabilities[key] = Decimal(count_dict[key])/(den)\n",
    "\n",
    "    for tag in tag_list:\n",
    "        if (\"start\", tag) not in probabilities:\n",
    "            probabilities[(\"start\", tag)] = Decimal(\n",
    "                1) / Decimal(len(word_set) + tag_count[tag])\n",
    "    for tag1 in tag_list:\n",
    "        for tag2 in tag_list:\n",
    "            if (tag1, tag2) not in probabilities:\n",
    "                probabilities[(tag1, tag2)] = Decimal(\n",
    "                    1) / Decimal(len(word_set) + tag_count[tag1])\n",
    "    count_word = {}\n",
    "    for value in corpus:\n",
    "        for data in value:\n",
    "            word = data[0]\n",
    "            tag = data[1]\n",
    "            if (word, tag) in count_word:\n",
    "                count_word[(word, tag)] += 1\n",
    "            else:\n",
    "                count_word[(word, tag)] = 1\n",
    "\n",
    "    # Generate probs of observations\n",
    "    obs_probs = {}\n",
    "    for key in count_word:\n",
    "        obs_probs[key] = Decimal(count_word[key])/tag_count[key[1]]\n",
    "\n",
    "    transition_matrix = np.zeros((len(tag_map), len(tag_map)))\n",
    "\n",
    "    for key, value in transition_prob.items():\n",
    "        i = tag_map[key[0]]\n",
    "        j = tag_map[key[1]]\n",
    "        transition_matrix[i, j] = value\n",
    "\n",
    "    ob_matrix = np.zeros((len(tag_map), len(word_map)+1))\n",
    "\n",
    "    for key, value in obs_probs.items():\n",
    "        i = tag_map[key[1]]\n",
    "        j = word_map[key[0].lower()]\n",
    "\n",
    "        obs_matrix[i][j] = value\n",
    "    random = 1/len(tag_map)\n",
    "    for tag in tag_map.keys():\n",
    "        obs_matrix[tag_map[tag]][word_map['undefined']] = random\n",
    "\n",
    "    return transition_matrix[0], transition_matrix, obs_matrix"
   ]
  },
  {
   "cell_type": "code",
   "execution_count": 21,
   "metadata": {},
   "outputs": [],
   "source": [
    "def viterbi(obs, pi, a, b):\n",
    "    num_states = len(b)\n",
    "    num_obs = len(obs)\n",
    "\n",
    "\n",
    "    path = np.zeros(T, dtype=int)\n",
    "    delta = np.zeros((num_states, num_obs))\n",
    "    phi = np.zeros((num_states, num_obs))\n",
    "    delta[:, 0] = pi * b[:, obs[0]]\n",
    "    phi[:, 0] = 0\n",
    "    \n",
    "    for t in range(1, T):\n",
    "        for s in range(nStates):\n",
    "            delta[s, t] = np.max(delta[:, t-1] * a[:, s]) * b[s, obs[t]]\n",
    "            phi[s, t] = np.argmax(delta[:, t-1] * a[:, s])\n",
    "\n",
    "    path[T-1] = np.argmax(delta[:, T-1])\n",
    "\n",
    "    for t in range(T-2, -1, -1):\n",
    "        path[t] = phi[path[t+1], [t+1]]\n",
    "\n",
    "    return path"
   ]
  },
  {
   "cell_type": "code",
   "execution_count": 22,
   "metadata": {},
   "outputs": [],
   "source": [
    "def gen_sent(sentence):\n",
    "    ints = []\n",
    "    ints.append(0) # for start\n",
    "    for tag in sentence:\n",
    "        word = tag[0]\n",
    "        try:\n",
    "            idx = word_map[word]\n",
    "        except:\n",
    "            idx = word_map['undefined']\n",
    "        ints.append(idx)\n",
    "    return ints"
   ]
  },
  {
   "cell_type": "code",
   "execution_count": 23,
   "metadata": {},
   "outputs": [],
   "source": [
    "def test_run():\n",
    "    train_data = init_data()\n",
    "    pi, a, b = load_matricies(train_data)\n",
    "    test = nltk.corpus.brown.tagged_sents(tagset='universal')[10150:10153]\n",
    "    for t in test:\n",
    "        print(t)\n",
    "        idx_sentence = build_sentence(t)\n",
    "        vt = viterbi(idx_sentence, pi, a, b)   \n",
    "        final = []\n",
    "        for state in states:\n",
    "            for tag in tag_map.keys():\n",
    "                if tag_map[tag] == state:\n",
    "                    final.append(tag)\n",
    "        return final[1:]"
   ]
  },
  {
   "cell_type": "code",
   "execution_count": 24,
   "metadata": {},
   "outputs": [
    {
     "output_type": "error",
     "ename": "TypeError",
     "evalue": "'NoneType' object is not iterable",
     "traceback": [
      "\u001b[1;31m---------------------------------------------------------------------------\u001b[0m",
      "\u001b[1;31mTypeError\u001b[0m                                 Traceback (most recent call last)",
      "\u001b[1;32m<ipython-input-24-f86ccc9500bb>\u001b[0m in \u001b[0;36m<module>\u001b[1;34m\u001b[0m\n\u001b[1;32m----> 1\u001b[1;33m \u001b[0mtest_run\u001b[0m\u001b[1;33m(\u001b[0m\u001b[1;33m)\u001b[0m\u001b[1;33m\u001b[0m\u001b[1;33m\u001b[0m\u001b[0m\n\u001b[0m",
      "\u001b[1;32m<ipython-input-23-69cba441ad92>\u001b[0m in \u001b[0;36mtest_run\u001b[1;34m()\u001b[0m\n\u001b[0;32m      1\u001b[0m \u001b[1;32mdef\u001b[0m \u001b[0mtest_run\u001b[0m\u001b[1;33m(\u001b[0m\u001b[1;33m)\u001b[0m\u001b[1;33m:\u001b[0m\u001b[1;33m\u001b[0m\u001b[1;33m\u001b[0m\u001b[0m\n\u001b[0;32m      2\u001b[0m     \u001b[0mtrain_data\u001b[0m \u001b[1;33m=\u001b[0m \u001b[0minit_data\u001b[0m\u001b[1;33m(\u001b[0m\u001b[1;33m)\u001b[0m\u001b[1;33m\u001b[0m\u001b[1;33m\u001b[0m\u001b[0m\n\u001b[1;32m----> 3\u001b[1;33m     \u001b[0mpi\u001b[0m\u001b[1;33m,\u001b[0m \u001b[0ma\u001b[0m\u001b[1;33m,\u001b[0m \u001b[0mb\u001b[0m \u001b[1;33m=\u001b[0m \u001b[0mload_matricies\u001b[0m\u001b[1;33m(\u001b[0m\u001b[0mtrain_data\u001b[0m\u001b[1;33m)\u001b[0m\u001b[1;33m\u001b[0m\u001b[1;33m\u001b[0m\u001b[0m\n\u001b[0m\u001b[0;32m      4\u001b[0m     \u001b[0mtest\u001b[0m \u001b[1;33m=\u001b[0m \u001b[0mnltk\u001b[0m\u001b[1;33m.\u001b[0m\u001b[0mcorpus\u001b[0m\u001b[1;33m.\u001b[0m\u001b[0mbrown\u001b[0m\u001b[1;33m.\u001b[0m\u001b[0mtagged_sents\u001b[0m\u001b[1;33m(\u001b[0m\u001b[0mtagset\u001b[0m\u001b[1;33m=\u001b[0m\u001b[1;34m'universal'\u001b[0m\u001b[1;33m)\u001b[0m\u001b[1;33m[\u001b[0m\u001b[1;36m10150\u001b[0m\u001b[1;33m:\u001b[0m\u001b[1;36m10153\u001b[0m\u001b[1;33m]\u001b[0m\u001b[1;33m\u001b[0m\u001b[1;33m\u001b[0m\u001b[0m\n\u001b[0;32m      5\u001b[0m     \u001b[1;32mfor\u001b[0m \u001b[0mt\u001b[0m \u001b[1;32min\u001b[0m \u001b[0mtest\u001b[0m\u001b[1;33m:\u001b[0m\u001b[1;33m\u001b[0m\u001b[1;33m\u001b[0m\u001b[0m\n",
      "\u001b[1;32m<ipython-input-20-6107f84f752e>\u001b[0m in \u001b[0;36mload_matricies\u001b[1;34m(data)\u001b[0m\n\u001b[0;32m      5\u001b[0m     \u001b[0mtag_count\u001b[0m \u001b[1;33m=\u001b[0m \u001b[1;33m{\u001b[0m\u001b[1;33m}\u001b[0m\u001b[1;33m\u001b[0m\u001b[1;33m\u001b[0m\u001b[0m\n\u001b[0;32m      6\u001b[0m \u001b[1;33m\u001b[0m\u001b[0m\n\u001b[1;32m----> 7\u001b[1;33m     \u001b[1;32mfor\u001b[0m \u001b[0mvalue\u001b[0m \u001b[1;32min\u001b[0m \u001b[0mdata\u001b[0m\u001b[1;33m:\u001b[0m\u001b[1;33m\u001b[0m\u001b[1;33m\u001b[0m\u001b[0m\n\u001b[0m\u001b[0;32m      8\u001b[0m         \u001b[0mprevious\u001b[0m \u001b[1;33m=\u001b[0m \u001b[1;34m\"start\"\u001b[0m\u001b[1;33m\u001b[0m\u001b[1;33m\u001b[0m\u001b[0m\n\u001b[0;32m      9\u001b[0m         \u001b[1;32mfor\u001b[0m \u001b[0mdata\u001b[0m \u001b[1;32min\u001b[0m \u001b[0mvalue\u001b[0m\u001b[1;33m:\u001b[0m\u001b[1;33m\u001b[0m\u001b[1;33m\u001b[0m\u001b[0m\n",
      "\u001b[1;31mTypeError\u001b[0m: 'NoneType' object is not iterable"
     ]
    }
   ],
   "source": [
    "test_run()"
   ]
  },
  {
   "cell_type": "code",
   "execution_count": null,
   "metadata": {},
   "outputs": [],
   "source": []
  }
 ]
}